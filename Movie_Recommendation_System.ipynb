{
  "cells": [
    {
      "cell_type": "code",
      "source": [
        "import pandas as pd\n",
        "import ast\n",
        "from sklearn.feature_extraction.text import TfidfVectorizer\n",
        "from sklearn.metrics.pairwise import cosine_similarity\n",
        "import difflib"
      ],
      "metadata": {
        "id": "O5HU2DnNVtMq"
      },
      "execution_count": null,
      "outputs": []
    },
    {
      "cell_type": "code",
      "source": [
        "df = pd.read_csv(\"tmdb_5000_credits.csv\")\n",
        "\n",
        "df = df[[\"movie_id\", \"title\", \"cast\", \"crew\"]]\n",
        "\n",
        "df = df.fillna(\"[]\")"
      ],
      "metadata": {
        "id": "s5xlY1HlVuqq"
      },
      "execution_count": null,
      "outputs": []
    },
    {
      "cell_type": "code",
      "source": [
        "def safe_eval(x):\n",
        "    try:\n",
        "        return ast.literal_eval(x)\n",
        "    except:\n",
        "        return []\n",
        "\n",
        "def get_top_cast(cast_str, n=3):\n",
        "    cast_list = safe_eval(cast_str)\n",
        "    return [c[\"name\"] for c in cast_list[:n] if \"name\" in c]\n",
        "\n",
        "def get_director(crew_str):\n",
        "    crew_list = safe_eval(crew_str)\n",
        "    for member in crew_list:\n",
        "        if member.get(\"job\") == \"Director\":\n",
        "            return [member[\"name\"]]\n",
        "    return []\n",
        "\n",
        "def make_soup(row):\n",
        "    cast = get_top_cast(row[\"cast\"])\n",
        "    director = get_director(row[\"crew\"])\n",
        "    return \" \".join(cast + director).lower()"
      ],
      "metadata": {
        "id": "8FX6MPyPVzhC"
      },
      "execution_count": null,
      "outputs": []
    },
    {
      "cell_type": "code",
      "source": [
        "df[\"soup\"] = df.apply(make_soup, axis=1)\n",
        "\n",
        "tfidf = TfidfVectorizer(stop_words=\"english\")\n",
        "tfidf_matrix = tfidf.fit_transform(df[\"soup\"])\n",
        "\n",
        "cosine_sim = cosine_similarity(tfidf_matrix, tfidf_matrix)\n",
        "\n",
        "df[\"title_norm\"] = df[\"title\"].str.lower()\n",
        "indices = pd.Series(df.index, index=df[\"title_norm\"])\n",
        "all_titles = df[\"title_norm\"].tolist()\n"
      ],
      "metadata": {
        "id": "rssrSWQIV82M"
      },
      "execution_count": null,
      "outputs": []
    },
    {
      "cell_type": "code",
      "source": [
        "def recommend_movie(title, top_n=5):\n",
        "    title_norm = title.lower().strip()\n",
        "\n",
        "    if title_norm not in indices:\n",
        "        match = difflib.get_close_matches(title_norm, all_titles, n=1, cutoff=0.6)\n",
        "        if not match:\n",
        "            return f\"Movie '{title}' not found in dataset.\"\n",
        "        title_norm = match[0]\n",
        "\n",
        "    idx = indices[title_norm]\n",
        "    sim_scores = list(enumerate(cosine_sim[idx]))\n",
        "    sim_scores = sorted(sim_scores, key=lambda x: x[1], reverse=True)\n",
        "    top = sim_scores[1 : top_n + 1]\n",
        "\n",
        "    recs = [df.iloc[i][\"title\"] for i, _ in top]\n",
        "    return recs\n",
        "\n",
        "movie_name = input(\"Enter a movie name: \")\n",
        "recommendations = recommend_movie(movie_name, top_n=5)\n",
        "\n",
        "print(\"\\nTop 5 Recommended Movies for:\", movie_name)\n",
        "for i, rec in enumerate(recommendations, 1):\n",
        "    print(f\"{i}. {rec}\")"
      ],
      "metadata": {
        "id": "JJMfl-SvWL1C",
        "outputId": "e603305b-1535-455d-f93d-e6408991d7db",
        "colab": {
          "base_uri": "https://localhost:8080/"
        }
      },
      "execution_count": null,
      "outputs": [
        {
          "output_type": "stream",
          "name": "stdout",
          "text": [
            "Enter a movie name: Avatar\n",
            "\n",
            "Top 5 Recommended Movies for: Avatar\n",
            "1. Aliens\n",
            "2. Snow White: A Tale of Terror\n",
            "3. Guardians of the Galaxy\n",
            "4. Out of the Furnace\n",
            "5. The Ice Storm\n"
          ]
        }
      ]
    }
  ],
  "metadata": {
    "colab": {
      "provenance": []
    },
    "kernelspec": {
      "display_name": "Python 3",
      "name": "python3"
    }
  },
  "nbformat": 4,
  "nbformat_minor": 0
}